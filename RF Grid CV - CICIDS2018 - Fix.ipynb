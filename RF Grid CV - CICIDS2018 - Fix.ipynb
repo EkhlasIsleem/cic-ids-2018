{
 "cells": [
  {
   "cell_type": "code",
   "execution_count": 1,
   "metadata": {},
   "outputs": [],
   "source": [
    "import numpy as np\n",
    "import pandas as pd\n",
    " \n",
    "from sklearn.model_selection import train_test_split\n",
    "from sklearn import preprocessing\n",
    "from sklearn.ensemble import RandomForestClassifier\n",
    "from sklearn.pipeline import make_pipeline, Pipeline\n",
    "from sklearn.model_selection import GridSearchCV\n",
    "from sklearn.metrics import mean_squared_error, r2_score\n",
    "from sklearn.externals import joblib "
   ]
  },
  {
   "cell_type": "code",
   "execution_count": 2,
   "metadata": {},
   "outputs": [
    {
     "data": {
      "text/html": [
       "<div>\n",
       "<style scoped>\n",
       "    .dataframe tbody tr th:only-of-type {\n",
       "        vertical-align: middle;\n",
       "    }\n",
       "\n",
       "    .dataframe tbody tr th {\n",
       "        vertical-align: top;\n",
       "    }\n",
       "\n",
       "    .dataframe thead th {\n",
       "        text-align: right;\n",
       "    }\n",
       "</style>\n",
       "<table border=\"1\" class=\"dataframe\">\n",
       "  <thead>\n",
       "    <tr style=\"text-align: right;\">\n",
       "      <th></th>\n",
       "      <th>URG Flag Cnt</th>\n",
       "      <th>SYN Flag Cnt</th>\n",
       "      <th>RST Flag Cnt</th>\n",
       "      <th>PSH Flag Cnt</th>\n",
       "      <th>Pkt Size Avg</th>\n",
       "      <th>Flow Pkts/s</th>\n",
       "      <th>FIN Flag Cnt</th>\n",
       "      <th>ECE Flag Cnt</th>\n",
       "      <th>ACK Flag Cnt</th>\n",
       "      <th>Dst Port</th>\n",
       "      <th>Label</th>\n",
       "      <th>Protocol_0</th>\n",
       "      <th>Protocol_6</th>\n",
       "      <th>Protocol_17</th>\n",
       "    </tr>\n",
       "  </thead>\n",
       "  <tbody>\n",
       "    <tr>\n",
       "      <th>0</th>\n",
       "      <td>0</td>\n",
       "      <td>0</td>\n",
       "      <td>0</td>\n",
       "      <td>1</td>\n",
       "      <td>225.900000</td>\n",
       "      <td>0.441997</td>\n",
       "      <td>0</td>\n",
       "      <td>0</td>\n",
       "      <td>0</td>\n",
       "      <td>443</td>\n",
       "      <td>0</td>\n",
       "      <td>0</td>\n",
       "      <td>1</td>\n",
       "      <td>0</td>\n",
       "    </tr>\n",
       "    <tr>\n",
       "      <th>1</th>\n",
       "      <td>0</td>\n",
       "      <td>0</td>\n",
       "      <td>0</td>\n",
       "      <td>0</td>\n",
       "      <td>78.500000</td>\n",
       "      <td>7220.216606</td>\n",
       "      <td>0</td>\n",
       "      <td>0</td>\n",
       "      <td>0</td>\n",
       "      <td>53</td>\n",
       "      <td>0</td>\n",
       "      <td>0</td>\n",
       "      <td>0</td>\n",
       "      <td>1</td>\n",
       "    </tr>\n",
       "    <tr>\n",
       "      <th>2</th>\n",
       "      <td>0</td>\n",
       "      <td>0</td>\n",
       "      <td>0</td>\n",
       "      <td>0</td>\n",
       "      <td>164.666667</td>\n",
       "      <td>1.006194</td>\n",
       "      <td>0</td>\n",
       "      <td>0</td>\n",
       "      <td>1</td>\n",
       "      <td>443</td>\n",
       "      <td>0</td>\n",
       "      <td>0</td>\n",
       "      <td>1</td>\n",
       "      <td>0</td>\n",
       "    </tr>\n",
       "    <tr>\n",
       "      <th>3</th>\n",
       "      <td>0</td>\n",
       "      <td>0</td>\n",
       "      <td>0</td>\n",
       "      <td>0</td>\n",
       "      <td>49.500000</td>\n",
       "      <td>4.721926</td>\n",
       "      <td>0</td>\n",
       "      <td>0</td>\n",
       "      <td>0</td>\n",
       "      <td>5355</td>\n",
       "      <td>0</td>\n",
       "      <td>0</td>\n",
       "      <td>0</td>\n",
       "      <td>1</td>\n",
       "    </tr>\n",
       "    <tr>\n",
       "      <th>4</th>\n",
       "      <td>0</td>\n",
       "      <td>0</td>\n",
       "      <td>0</td>\n",
       "      <td>0</td>\n",
       "      <td>0.000000</td>\n",
       "      <td>5221.932115</td>\n",
       "      <td>0</td>\n",
       "      <td>0</td>\n",
       "      <td>1</td>\n",
       "      <td>80</td>\n",
       "      <td>0</td>\n",
       "      <td>0</td>\n",
       "      <td>1</td>\n",
       "      <td>0</td>\n",
       "    </tr>\n",
       "  </tbody>\n",
       "</table>\n",
       "</div>"
      ],
      "text/plain": [
       "   URG Flag Cnt  SYN Flag Cnt  RST Flag Cnt  PSH Flag Cnt  Pkt Size Avg  \\\n",
       "0             0             0             0             1    225.900000   \n",
       "1             0             0             0             0     78.500000   \n",
       "2             0             0             0             0    164.666667   \n",
       "3             0             0             0             0     49.500000   \n",
       "4             0             0             0             0      0.000000   \n",
       "\n",
       "   Flow Pkts/s  FIN Flag Cnt  ECE Flag Cnt  ACK Flag Cnt  Dst Port  Label  \\\n",
       "0     0.441997             0             0             0       443      0   \n",
       "1  7220.216606             0             0             0        53      0   \n",
       "2     1.006194             0             0             1       443      0   \n",
       "3     4.721926             0             0             0      5355      0   \n",
       "4  5221.932115             0             0             1        80      0   \n",
       "\n",
       "   Protocol_0  Protocol_6  Protocol_17  \n",
       "0           0           1            0  \n",
       "1           0           0            1  \n",
       "2           0           1            0  \n",
       "3           0           0            1  \n",
       "4           0           1            0  "
      ]
     },
     "execution_count": 2,
     "metadata": {},
     "output_type": "execute_result"
    }
   ],
   "source": [
    "traindata = pd.read_csv('D:\\KULIAH\\Semester 8\\Dataset\\preprocessed_train_4_new.csv')\n",
    "testdata = pd.read_csv('D:\\KULIAH\\Semester 8\\Dataset\\preprocessed_test_4_new.csv')\n",
    "\n",
    "traindata.pop(\"Unnamed: 0\")\n",
    "testdata.pop(\"Unnamed: 0\")\n",
    "\n",
    "traindata.head()"
   ]
  },
  {
   "cell_type": "code",
   "execution_count": 3,
   "metadata": {},
   "outputs": [
    {
     "name": "stdout",
     "output_type": "stream",
     "text": [
      "<class 'pandas.core.frame.DataFrame'>\n",
      "RangeIndex: 832438 entries, 0 to 832437\n",
      "Data columns (total 13 columns):\n",
      "URG Flag Cnt    832438 non-null int64\n",
      "SYN Flag Cnt    832438 non-null int64\n",
      "RST Flag Cnt    832438 non-null int64\n",
      "PSH Flag Cnt    832438 non-null int64\n",
      "Pkt Size Avg    832438 non-null float64\n",
      "Flow Pkts/s     832438 non-null float64\n",
      "FIN Flag Cnt    832438 non-null int64\n",
      "ECE Flag Cnt    832438 non-null int64\n",
      "ACK Flag Cnt    832438 non-null int64\n",
      "Dst Port        832438 non-null int64\n",
      "Protocol_0      832438 non-null int64\n",
      "Protocol_6      832438 non-null int64\n",
      "Protocol_17     832438 non-null int64\n",
      "dtypes: float64(2), int64(11)\n",
      "memory usage: 82.6 MB\n"
     ]
    }
   ],
   "source": [
    "Y = traindata.pop('Label')\n",
    "X = traindata.iloc[:,0:13]\n",
    "C = testdata.pop('Label')\n",
    "T = testdata.iloc[:,0:13]\n",
    "\n",
    "X.info(verbose=True)"
   ]
  },
  {
   "cell_type": "code",
   "execution_count": 4,
   "metadata": {},
   "outputs": [
    {
     "data": {
      "text/plain": [
       "array([0, 0, 0, ..., 0, 0, 0], dtype=int64)"
      ]
     },
     "execution_count": 4,
     "metadata": {},
     "output_type": "execute_result"
    }
   ],
   "source": [
    "_traindata = np.array(X)\n",
    "_trainlabel = np.array(Y)\n",
    "\n",
    "_testdata = np.array(T)\n",
    "_testlabel = np.array(C)\n",
    "\n",
    "_testlabel"
   ]
  },
  {
   "cell_type": "code",
   "execution_count": 5,
   "metadata": {},
   "outputs": [],
   "source": [
    "# 5. Declare data preprocessing steps\n",
    "pipeline = make_pipeline(RandomForestClassifier())\n",
    "\n",
    "# Add a dict of estimator and estimator related parameters in this list\n",
    "hyperparameters = {\n",
    "                'randomforestclassifier__n_estimators': [25,50,75,100],\n",
    "                'randomforestclassifier__max_features' : [None, \"log2\", \"auto\"]\n",
    "                }\n"
   ]
  },
  {
   "cell_type": "code",
   "execution_count": 6,
   "metadata": {},
   "outputs": [
    {
     "name": "stdout",
     "output_type": "stream",
     "text": [
      "Fitting 5 folds for each of 12 candidates, totalling 60 fits\n"
     ]
    },
    {
     "name": "stderr",
     "output_type": "stream",
     "text": [
      "[Parallel(n_jobs=-1)]: Using backend LokyBackend with 4 concurrent workers.\n",
      "[Parallel(n_jobs=-1)]: Done  42 tasks      | elapsed: 56.7min\n",
      "[Parallel(n_jobs=-1)]: Done  60 out of  60 | elapsed: 67.7min finished\n"
     ]
    },
    {
     "data": {
      "text/plain": [
       "GridSearchCV(cv=5, error_score='raise-deprecating',\n",
       "       estimator=Pipeline(memory=None,\n",
       "     steps=[('randomforestclassifier', RandomForestClassifier(bootstrap=True, class_weight=None, criterion='gini',\n",
       "            max_depth=None, max_features='auto', max_leaf_nodes=None,\n",
       "            min_impurity_decrease=0.0, min_impurity_split=None,\n",
       "            min_sam...bs=None,\n",
       "            oob_score=False, random_state=None, verbose=0,\n",
       "            warm_start=False))]),\n",
       "       fit_params=None, iid='warn', n_jobs=-1,\n",
       "       param_grid={'randomforestclassifier__n_estimators': [25, 50, 75, 100], 'randomforestclassifier__max_features': [None, 'log2', 'auto']},\n",
       "       pre_dispatch='2*n_jobs', refit=True, return_train_score='warn',\n",
       "       scoring=None, verbose=1)"
      ]
     },
     "execution_count": 6,
     "metadata": {},
     "output_type": "execute_result"
    }
   ],
   "source": [
    "# 7. Tune model using cross-validation pipeline\n",
    "clf = GridSearchCV(pipeline, hyperparameters, cv=5,verbose=1,n_jobs=-1)\n",
    "clf.fit(_traindata, _trainlabel)"
   ]
  },
  {
   "cell_type": "code",
   "execution_count": 7,
   "metadata": {
    "scrolled": true
   },
   "outputs": [
    {
     "name": "stdout",
     "output_type": "stream",
     "text": [
      "{'randomforestclassifier__max_features': 'log2', 'randomforestclassifier__n_estimators': 100}\n",
      "Pipeline(memory=None,\n",
      "     steps=[('randomforestclassifier', RandomForestClassifier(bootstrap=True, class_weight=None, criterion='gini',\n",
      "            max_depth=None, max_features='log2', max_leaf_nodes=None,\n",
      "            min_impurity_decrease=0.0, min_impurity_split=None,\n",
      "            min_samples_leaf=1, min_samples_split=2,\n",
      "            min_weight_fraction_leaf=0.0, n_estimators=100, n_jobs=None,\n",
      "            oob_score=False, random_state=None, verbose=0,\n",
      "            warm_start=False))])\n"
     ]
    }
   ],
   "source": [
    "print(clf.best_params_)\n",
    "print(clf.best_estimator_)\n",
    "# print(clf.cv_results_ )"
   ]
  },
  {
   "cell_type": "code",
   "execution_count": 8,
   "metadata": {},
   "outputs": [
    {
     "name": "stdout",
     "output_type": "stream",
     "text": [
      "0.9985620550719694\n"
     ]
    }
   ],
   "source": [
    "print(clf.best_score_ )"
   ]
  },
  {
   "cell_type": "code",
   "execution_count": 9,
   "metadata": {},
   "outputs": [
    {
     "name": "stdout",
     "output_type": "stream",
     "text": [
      "True\n",
      "0.9985680649656432\n"
     ]
    }
   ],
   "source": [
    "print (clf.refit)\n",
    " \n",
    "# 9. Evaluate model pipeline on test data\n",
    "pred = clf.predict(_testdata)\n",
    "\n",
    "\n",
    "from sklearn.metrics import accuracy_score\n",
    "print(accuracy_score(_testlabel, pred))"
   ]
  },
  {
   "cell_type": "code",
   "execution_count": 10,
   "metadata": {},
   "outputs": [
    {
     "name": "stdout",
     "output_type": "stream",
     "text": [
      "              precision    recall  f1-score   support\n",
      "\n",
      "           0       1.00      1.00      1.00    197610\n",
      "           1       0.98      0.99      0.99     10500\n",
      "\n",
      "   micro avg       1.00      1.00      1.00    208110\n",
      "   macro avg       0.99      0.99      0.99    208110\n",
      "weighted avg       1.00      1.00      1.00    208110\n",
      "\n",
      "[[197430    180]\n",
      " [   118  10382]]\n"
     ]
    }
   ],
   "source": [
    "from sklearn.metrics import confusion_matrix,classification_report\n",
    "\n",
    "cm = confusion_matrix(_testlabel, pred)\n",
    "print(classification_report(_testlabel, pred))\n",
    "print(cm)"
   ]
  },
  {
   "cell_type": "code",
   "execution_count": 11,
   "metadata": {},
   "outputs": [
    {
     "data": {
      "text/plain": [
       "['rf_gridcv_tanpa_scaler_100-est-log2.pkl']"
      ]
     },
     "execution_count": 11,
     "metadata": {},
     "output_type": "execute_result"
    }
   ],
   "source": [
    "# 10. Save model for future use\n",
    "joblib.dump(clf, 'rf_gridcv_tanpa_scaler_100-est-log2.pkl')"
   ]
  },
  {
   "cell_type": "code",
   "execution_count": 9,
   "metadata": {},
   "outputs": [],
   "source": [
    "clf2 = joblib.load('v-rf_gridcv_robust.pkl')\n",
    "\n"
   ]
  },
  {
   "cell_type": "code",
   "execution_count": 10,
   "metadata": {},
   "outputs": [
    {
     "name": "stdout",
     "output_type": "stream",
     "text": [
      "{'randomforestclassifier__max_depth': None, 'randomforestclassifier__max_features': 'log2'}\n",
      "Pipeline(memory=None,\n",
      "     steps=[('robustscaler', RobustScaler(copy=True, quantile_range=(25.0, 75.0), with_centering=True,\n",
      "       with_scaling=True)), ('randomforestclassifier', RandomForestClassifier(bootstrap=True, class_weight=None, criterion='gini',\n",
      "            max_depth=None, max_features='log2', max_leaf_nodes=None,\n",
      " ...obs=None,\n",
      "            oob_score=False, random_state=None, verbose=0,\n",
      "            warm_start=False))])\n"
     ]
    }
   ],
   "source": [
    "print(clf2.best_params_)\n",
    "print(clf2.best_estimator_)"
   ]
  },
  {
   "cell_type": "code",
   "execution_count": null,
   "metadata": {},
   "outputs": [],
   "source": []
  }
 ],
 "metadata": {
  "kernelspec": {
   "display_name": "Python 3",
   "language": "python",
   "name": "python3"
  },
  "language_info": {
   "codemirror_mode": {
    "name": "ipython",
    "version": 3
   },
   "file_extension": ".py",
   "mimetype": "text/x-python",
   "name": "python",
   "nbconvert_exporter": "python",
   "pygments_lexer": "ipython3",
   "version": "3.7.1"
  }
 },
 "nbformat": 4,
 "nbformat_minor": 2
}
